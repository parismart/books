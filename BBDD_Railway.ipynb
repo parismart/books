{
 "cells": [
  {
   "cell_type": "code",
   "execution_count": 1,
   "metadata": {},
   "outputs": [
    {
     "name": "stdout",
     "output_type": "stream",
     "text": [
      "Collecting psycopg2-binary\n",
      "  Downloading psycopg2_binary-2.9.6-cp39-cp39-win_amd64.whl (1.2 MB)\n",
      "     ---------------------------------------- 1.2/1.2 MB 6.2 MB/s eta 0:00:00\n",
      "Installing collected packages: psycopg2-binary\n",
      "Successfully installed psycopg2-binary-2.9.6\n"
     ]
    }
   ],
   "source": [
    "! pip install psycopg2-binary"
   ]
  },
  {
   "cell_type": "code",
   "execution_count": 2,
   "metadata": {},
   "outputs": [],
   "source": [
    "import psycopg2"
   ]
  },
  {
   "cell_type": "code",
   "execution_count": 3,
   "metadata": {},
   "outputs": [],
   "source": [
    "conn = psycopg2.connect(\n",
    "    user=\"postgres\",\n",
    "    password=\"PIKqPhxx35Ymhm3MIgdR\",\n",
    "    host=\"containers-us-west-17.railway.app\",\n",
    "    port=\"5679\",\n",
    "    database=\"railway\"\n",
    ")"
   ]
  },
  {
   "cell_type": "code",
   "execution_count": 4,
   "metadata": {},
   "outputs": [],
   "source": [
    "cursor = conn.cursor()"
   ]
  },
  {
   "cell_type": "code",
   "execution_count": 5,
   "metadata": {},
   "outputs": [
    {
     "name": "stdout",
     "output_type": "stream",
     "text": [
      "You are connected to -  ('PostgreSQL 13.2 on x86_64-pc-linux-musl, compiled by gcc (Alpine 10.2.1_pre1) 10.2.1 20201203, 64-bit',) \n",
      "\n"
     ]
    }
   ],
   "source": [
    "cursor.execute(\"SELECT version();\")\n",
    "record = cursor.fetchone()\n",
    "print(\"You are connected to - \", record, \"\\n\")"
   ]
  },
  {
   "cell_type": "code",
   "execution_count": 6,
   "metadata": {},
   "outputs": [],
   "source": [
    "# Crear la tabla\n",
    "cursor.execute(\"CREATE TABLE books_table (id INTEGER PRIMARY KEY, author TEXT, year TEXT, title TEXT, description TEXT)\")\n"
   ]
  },
  {
   "cell_type": "code",
   "execution_count": 8,
   "metadata": {},
   "outputs": [],
   "source": [
    "from psycopg2.extras import execute_values\n",
    "\n",
    "# Insertar los valores utilizando execute_values\n",
    "books = [\n",
    "    (1, 'George Orwell', '1949', '1984', 'It was a bright cold day in April, and the clocks were striking thirteen.'),\n",
    "    (2, 'J.R.R. Tolkien', '1954', 'The Lord of the Rings', 'When Mr. Bilbo Baggins of Bag End announced that he would shortly be'),\n",
    "    (3, 'Jane Austen', '1813', 'Pride and Prejudice', 'It is a truth universally acknowledged, that a single man in possession of a good fortune, must be in want of a wife.'),\n",
    "    (4, 'Leo Tolstoy', '1869', 'War and Peace', 'All happy families are alike; each unhappy family is unhappy in its own way.')\n",
    "]\n",
    "query = \"INSERT INTO books_table (id, author, year, title, description) VALUES %s\"\n",
    "execute_values(cursor, query, books)\n"
   ]
  },
  {
   "cell_type": "code",
   "execution_count": 9,
   "metadata": {},
   "outputs": [],
   "source": [
    "# Hacer commit de los cambios\n",
    "conn.commit()\n",
    "\n",
    "# Cerrar la conexión\n",
    "cursor.close()\n",
    "conn.close()"
   ]
  },
  {
   "cell_type": "code",
   "execution_count": 10,
   "metadata": {},
   "outputs": [
    {
     "name": "stdout",
     "output_type": "stream",
     "text": [
      "(1, 'George Orwell', '1949', '1984', 'It was a bright cold day in April, and the clocks were striking thirteen.')\n",
      "(2, 'J.R.R. Tolkien', '1954', 'The Lord of the Rings', 'When Mr. Bilbo Baggins of Bag End announced that he would shortly be')\n",
      "(3, 'Jane Austen', '1813', 'Pride and Prejudice', 'It is a truth universally acknowledged, that a single man in possession of a good fortune, must be in want of a wife.')\n",
      "(4, 'Leo Tolstoy', '1869', 'War and Peace', 'All happy families are alike; each unhappy family is unhappy in its own way.')\n"
     ]
    }
   ],
   "source": [
    "# Conectarse a la base de datos\n",
    "conn = psycopg2.connect(\n",
    "    user=\"postgres\",\n",
    "    password=\"PIKqPhxx35Ymhm3MIgdR\",\n",
    "    host=\"containers-us-west-17.railway.app\",\n",
    "    port=\"5679\",\n",
    "    database=\"railway\"\n",
    ")\n",
    "\n",
    "# Crear un cursor\n",
    "cur = conn.cursor()\n",
    "\n",
    "# Ejecutar la consulta\n",
    "cur.execute(\"SELECT * FROM books_table\")\n",
    "\n",
    "# Obtener los resultados\n",
    "rows = cur.fetchall()\n",
    "\n",
    "# Imprimir los resultados\n",
    "for row in rows:\n",
    "    print(row)\n",
    "\n",
    "# Cerrar la conexión\n",
    "cur.close()\n",
    "conn.close()\n"
   ]
  }
 ],
 "metadata": {
  "kernelspec": {
   "display_name": "TheBridge",
   "language": "python",
   "name": "python3"
  },
  "language_info": {
   "codemirror_mode": {
    "name": "ipython",
    "version": 3
   },
   "file_extension": ".py",
   "mimetype": "text/x-python",
   "name": "python",
   "nbconvert_exporter": "python",
   "pygments_lexer": "ipython3",
   "version": "3.9.15"
  },
  "orig_nbformat": 4
 },
 "nbformat": 4,
 "nbformat_minor": 2
}
